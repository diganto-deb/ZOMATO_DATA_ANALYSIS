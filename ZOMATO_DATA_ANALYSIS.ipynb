{
 "cells": [
  {
   "cell_type": "code",
   "execution_count": 101,
   "metadata": {},
   "outputs": [],
   "source": [
    "import pandas as pd\n",
    "import numpy as np\n",
    "import matplotlib.pyplot as plt\n",
    "import seaborn as sns\n",
    "%matplotlib inline"
   ]
  },
  {
   "cell_type": "code",
   "execution_count": 102,
   "metadata": {},
   "outputs": [],
   "source": [
    "data = pd.read_excel(\"zomato_train.xlsx\")"
   ]
  },
  {
   "cell_type": "code",
   "execution_count": 103,
   "metadata": {},
   "outputs": [
    {
     "data": {
      "text/html": [
       "<div>\n",
       "<style scoped>\n",
       "    .dataframe tbody tr th:only-of-type {\n",
       "        vertical-align: middle;\n",
       "    }\n",
       "\n",
       "    .dataframe tbody tr th {\n",
       "        vertical-align: top;\n",
       "    }\n",
       "\n",
       "    .dataframe thead th {\n",
       "        text-align: right;\n",
       "    }\n",
       "</style>\n",
       "<table border=\"1\" class=\"dataframe\">\n",
       "  <thead>\n",
       "    <tr style=\"text-align: right;\">\n",
       "      <th></th>\n",
       "      <th>url</th>\n",
       "      <th>address</th>\n",
       "      <th>name</th>\n",
       "      <th>online_order</th>\n",
       "      <th>book_table</th>\n",
       "      <th>votes</th>\n",
       "      <th>phone</th>\n",
       "      <th>location</th>\n",
       "      <th>rest_type</th>\n",
       "      <th>dish_liked</th>\n",
       "      <th>cuisines</th>\n",
       "      <th>approx_cost(for two people)</th>\n",
       "      <th>reviews_list</th>\n",
       "      <th>menu_item</th>\n",
       "      <th>listed_in(type)</th>\n",
       "      <th>listed_in(city)</th>\n",
       "      <th>rates</th>\n",
       "    </tr>\n",
       "  </thead>\n",
       "  <tbody>\n",
       "    <tr>\n",
       "      <td>0</td>\n",
       "      <td>https://www.zomato.com/bangalore/al-swaad-take...</td>\n",
       "      <td>18, Masjid Street, Opp Akbari Masjid Neelasand...</td>\n",
       "      <td>Al Swaad Take Away</td>\n",
       "      <td>Yes</td>\n",
       "      <td>No</td>\n",
       "      <td>13</td>\n",
       "      <td>+91 7019942388\\n+91 9902335220</td>\n",
       "      <td>Richmond Road</td>\n",
       "      <td>Quick Bites</td>\n",
       "      <td>NaN</td>\n",
       "      <td>North Indian, South Indian, Arabian</td>\n",
       "      <td>350</td>\n",
       "      <td>[('Rated 1.0', 'RATED\\n  If U need reasonable ...</td>\n",
       "      <td>['Beef Seekh Kabab', 'Beef BBQ Chops', 'Beef M...</td>\n",
       "      <td>Delivery</td>\n",
       "      <td>Residency Road</td>\n",
       "      <td>3.1</td>\n",
       "    </tr>\n",
       "    <tr>\n",
       "      <td>1</td>\n",
       "      <td>https://www.zomato.com/bangalore/the-boozy-gri...</td>\n",
       "      <td>2nd Floor, 1st A Cross Road, Jyothi Nivas Coll...</td>\n",
       "      <td>The Boozy Griffin</td>\n",
       "      <td>No</td>\n",
       "      <td>Yes</td>\n",
       "      <td>5015</td>\n",
       "      <td>080 33512954</td>\n",
       "      <td>Koramangala 5th Block</td>\n",
       "      <td>Casual Dining, Pub</td>\n",
       "      <td>Cocktails, Craft Beer, Salads, Devils Chicken,...</td>\n",
       "      <td>European, Continental</td>\n",
       "      <td>1,800</td>\n",
       "      <td>[('Rated 5.0', 'RATED\\n  Really great ambience...</td>\n",
       "      <td>[]</td>\n",
       "      <td>Dine-out</td>\n",
       "      <td>Koramangala 6th Block</td>\n",
       "      <td>4.6</td>\n",
       "    </tr>\n",
       "    <tr>\n",
       "      <td>2</td>\n",
       "      <td>https://www.zomato.com/bangalore/barkat-btm-ba...</td>\n",
       "      <td>28th, 8th Cross, Maruthi Nagar, Madiwala, BTM,...</td>\n",
       "      <td>Barkat</td>\n",
       "      <td>No</td>\n",
       "      <td>No</td>\n",
       "      <td>6</td>\n",
       "      <td>+91 9019670836</td>\n",
       "      <td>BTM</td>\n",
       "      <td>Quick Bites</td>\n",
       "      <td>NaN</td>\n",
       "      <td>Kerala</td>\n",
       "      <td>250</td>\n",
       "      <td>[]</td>\n",
       "      <td>[]</td>\n",
       "      <td>Dine-out</td>\n",
       "      <td>Koramangala 4th Block</td>\n",
       "      <td>3.4</td>\n",
       "    </tr>\n",
       "    <tr>\n",
       "      <td>3</td>\n",
       "      <td>https://www.zomato.com/bangalore/sriracha-lave...</td>\n",
       "      <td>204, 2nd Level, 4th Floor, Comet Block, UB Cit...</td>\n",
       "      <td>Sriracha</td>\n",
       "      <td>No</td>\n",
       "      <td>No</td>\n",
       "      <td>699</td>\n",
       "      <td>+91 8041755366\\n+91 7022422473</td>\n",
       "      <td>Lavelle Road</td>\n",
       "      <td>Casual Dining</td>\n",
       "      <td>Noodles, Laksa, Cocktails, Dumplings, Sangria,...</td>\n",
       "      <td>Thai, Chinese, Indonesian, Asian, Momos</td>\n",
       "      <td>1,500</td>\n",
       "      <td>[('Rated 3.0', 'RATED\\n  Another restaurant in...</td>\n",
       "      <td>[]</td>\n",
       "      <td>Dine-out</td>\n",
       "      <td>Residency Road</td>\n",
       "      <td>4.3</td>\n",
       "    </tr>\n",
       "    <tr>\n",
       "      <td>4</td>\n",
       "      <td>https://www.zomato.com/bangalore/sri-ganesh-ju...</td>\n",
       "      <td>513, Opposite Ganesh Temple, Koramangala 8th B...</td>\n",
       "      <td>Sri Ganesh Juice Junction</td>\n",
       "      <td>Yes</td>\n",
       "      <td>No</td>\n",
       "      <td>129</td>\n",
       "      <td>+91 9845623889</td>\n",
       "      <td>Koramangala 8th Block</td>\n",
       "      <td>Beverage Shop</td>\n",
       "      <td>NaN</td>\n",
       "      <td>Juices, Fast Food</td>\n",
       "      <td>150</td>\n",
       "      <td>[('Rated 4.0', 'RATED\\n  Good cafe with most v...</td>\n",
       "      <td>['Dry Fruit Milkshake', 'Wheat Grass with Wate...</td>\n",
       "      <td>Delivery</td>\n",
       "      <td>Koramangala 6th Block</td>\n",
       "      <td>3.7</td>\n",
       "    </tr>\n",
       "  </tbody>\n",
       "</table>\n",
       "</div>"
      ],
      "text/plain": [
       "                                                 url  \\\n",
       "0  https://www.zomato.com/bangalore/al-swaad-take...   \n",
       "1  https://www.zomato.com/bangalore/the-boozy-gri...   \n",
       "2  https://www.zomato.com/bangalore/barkat-btm-ba...   \n",
       "3  https://www.zomato.com/bangalore/sriracha-lave...   \n",
       "4  https://www.zomato.com/bangalore/sri-ganesh-ju...   \n",
       "\n",
       "                                             address  \\\n",
       "0  18, Masjid Street, Opp Akbari Masjid Neelasand...   \n",
       "1  2nd Floor, 1st A Cross Road, Jyothi Nivas Coll...   \n",
       "2  28th, 8th Cross, Maruthi Nagar, Madiwala, BTM,...   \n",
       "3  204, 2nd Level, 4th Floor, Comet Block, UB Cit...   \n",
       "4  513, Opposite Ganesh Temple, Koramangala 8th B...   \n",
       "\n",
       "                        name online_order book_table  votes  \\\n",
       "0         Al Swaad Take Away          Yes         No     13   \n",
       "1          The Boozy Griffin           No        Yes   5015   \n",
       "2                     Barkat           No         No      6   \n",
       "3                   Sriracha           No         No    699   \n",
       "4  Sri Ganesh Juice Junction          Yes         No    129   \n",
       "\n",
       "                            phone               location           rest_type  \\\n",
       "0  +91 7019942388\\n+91 9902335220          Richmond Road         Quick Bites   \n",
       "1                    080 33512954  Koramangala 5th Block  Casual Dining, Pub   \n",
       "2                  +91 9019670836                    BTM         Quick Bites   \n",
       "3  +91 8041755366\\n+91 7022422473           Lavelle Road       Casual Dining   \n",
       "4                  +91 9845623889  Koramangala 8th Block       Beverage Shop   \n",
       "\n",
       "                                          dish_liked  \\\n",
       "0                                                NaN   \n",
       "1  Cocktails, Craft Beer, Salads, Devils Chicken,...   \n",
       "2                                                NaN   \n",
       "3  Noodles, Laksa, Cocktails, Dumplings, Sangria,...   \n",
       "4                                                NaN   \n",
       "\n",
       "                                  cuisines approx_cost(for two people)  \\\n",
       "0      North Indian, South Indian, Arabian                         350   \n",
       "1                    European, Continental                       1,800   \n",
       "2                                   Kerala                         250   \n",
       "3  Thai, Chinese, Indonesian, Asian, Momos                       1,500   \n",
       "4                        Juices, Fast Food                         150   \n",
       "\n",
       "                                        reviews_list  \\\n",
       "0  [('Rated 1.0', 'RATED\\n  If U need reasonable ...   \n",
       "1  [('Rated 5.0', 'RATED\\n  Really great ambience...   \n",
       "2                                                 []   \n",
       "3  [('Rated 3.0', 'RATED\\n  Another restaurant in...   \n",
       "4  [('Rated 4.0', 'RATED\\n  Good cafe with most v...   \n",
       "\n",
       "                                           menu_item listed_in(type)  \\\n",
       "0  ['Beef Seekh Kabab', 'Beef BBQ Chops', 'Beef M...        Delivery   \n",
       "1                                                 []        Dine-out   \n",
       "2                                                 []        Dine-out   \n",
       "3                                                 []        Dine-out   \n",
       "4  ['Dry Fruit Milkshake', 'Wheat Grass with Wate...        Delivery   \n",
       "\n",
       "         listed_in(city) rates  \n",
       "0         Residency Road  3.1   \n",
       "1  Koramangala 6th Block  4.6   \n",
       "2  Koramangala 4th Block  3.4   \n",
       "3         Residency Road  4.3   \n",
       "4  Koramangala 6th Block  3.7   "
      ]
     },
     "execution_count": 103,
     "metadata": {},
     "output_type": "execute_result"
    }
   ],
   "source": [
    "data.head()"
   ]
  },
  {
   "cell_type": "code",
   "execution_count": 104,
   "metadata": {},
   "outputs": [
    {
     "data": {
      "text/html": [
       "<div>\n",
       "<style scoped>\n",
       "    .dataframe tbody tr th:only-of-type {\n",
       "        vertical-align: middle;\n",
       "    }\n",
       "\n",
       "    .dataframe tbody tr th {\n",
       "        vertical-align: top;\n",
       "    }\n",
       "\n",
       "    .dataframe thead th {\n",
       "        text-align: right;\n",
       "    }\n",
       "</style>\n",
       "<table border=\"1\" class=\"dataframe\">\n",
       "  <thead>\n",
       "    <tr style=\"text-align: right;\">\n",
       "      <th></th>\n",
       "      <th>url</th>\n",
       "      <th>address</th>\n",
       "      <th>name</th>\n",
       "      <th>online_order</th>\n",
       "      <th>book_table</th>\n",
       "      <th>votes</th>\n",
       "      <th>phone</th>\n",
       "      <th>location</th>\n",
       "      <th>rest_type</th>\n",
       "      <th>dish_liked</th>\n",
       "      <th>cuisines</th>\n",
       "      <th>approx_cost(for two people)</th>\n",
       "      <th>reviews_list</th>\n",
       "      <th>menu_item</th>\n",
       "      <th>listed_in(type)</th>\n",
       "      <th>listed_in(city)</th>\n",
       "      <th>rates</th>\n",
       "    </tr>\n",
       "  </thead>\n",
       "  <tbody>\n",
       "    <tr>\n",
       "      <td>41368</td>\n",
       "      <td>https://www.zomato.com/bangalore/koshys-st-mar...</td>\n",
       "      <td>39, St. Marks Road, Bangalore</td>\n",
       "      <td>Koshy's</td>\n",
       "      <td>No</td>\n",
       "      <td>No</td>\n",
       "      <td>2332</td>\n",
       "      <td>080 22915840\\n080 22213793</td>\n",
       "      <td>St. Marks Road</td>\n",
       "      <td>Casual Dining</td>\n",
       "      <td>Coffee, Kulfi, Beef Steak, Chocolate Shake, Sa...</td>\n",
       "      <td>South Indian, North Indian, Chinese, Beverages</td>\n",
       "      <td>700</td>\n",
       "      <td>[('Rated 4.0', 'RATED\\n  A place where you get...</td>\n",
       "      <td>[]</td>\n",
       "      <td>Dine-out</td>\n",
       "      <td>Residency Road</td>\n",
       "      <td>3.8</td>\n",
       "    </tr>\n",
       "    <tr>\n",
       "      <td>41369</td>\n",
       "      <td>https://www.zomato.com/bangalore/midnight-spec...</td>\n",
       "      <td>521, 2nd Floor, Teachers Colony, Sarjapura Rin...</td>\n",
       "      <td>Midnight Special</td>\n",
       "      <td>Yes</td>\n",
       "      <td>No</td>\n",
       "      <td>0</td>\n",
       "      <td>+91 80420780493</td>\n",
       "      <td>HSR</td>\n",
       "      <td>Takeaway, Delivery</td>\n",
       "      <td>NaN</td>\n",
       "      <td>North Indian, Fast Food, Chinese</td>\n",
       "      <td>500</td>\n",
       "      <td>[]</td>\n",
       "      <td>[]</td>\n",
       "      <td>Delivery</td>\n",
       "      <td>Koramangala 4th Block</td>\n",
       "      <td>NaN</td>\n",
       "    </tr>\n",
       "    <tr>\n",
       "      <td>41370</td>\n",
       "      <td>https://www.zomato.com/bangalore/sholay-the-ba...</td>\n",
       "      <td>1, RMV 2nd Stage, 3rd Block, Chikkamaranahalli...</td>\n",
       "      <td>Sholay - The Barbeque</td>\n",
       "      <td>Yes</td>\n",
       "      <td>Yes</td>\n",
       "      <td>45</td>\n",
       "      <td>+91 7619328882</td>\n",
       "      <td>New BEL Road</td>\n",
       "      <td>Casual Dining</td>\n",
       "      <td>NaN</td>\n",
       "      <td>North Indian, BBQ</td>\n",
       "      <td>1,200</td>\n",
       "      <td>[('Rated 2.0', 'RATED\\n  That building homes t...</td>\n",
       "      <td>[]</td>\n",
       "      <td>Dine-out</td>\n",
       "      <td>New BEL Road</td>\n",
       "      <td>3.5</td>\n",
       "    </tr>\n",
       "    <tr>\n",
       "      <td>41371</td>\n",
       "      <td>https://www.zomato.com/bangalore/ghar-ka-bhoja...</td>\n",
       "      <td>93, 1st Floor, Opoosite Venkateshwara Temple, ...</td>\n",
       "      <td>Ghar Ka Bhojan</td>\n",
       "      <td>No</td>\n",
       "      <td>No</td>\n",
       "      <td>7</td>\n",
       "      <td>+91 9945810850\\n+91 9997888609</td>\n",
       "      <td>Domlur</td>\n",
       "      <td>Delivery</td>\n",
       "      <td>NaN</td>\n",
       "      <td>North Indian, Healthy Food</td>\n",
       "      <td>200</td>\n",
       "      <td>[('Rated 1.0', 'RATED\\n  Food not upto the mar...</td>\n",
       "      <td>[]</td>\n",
       "      <td>Delivery</td>\n",
       "      <td>MG Road</td>\n",
       "      <td>3.3</td>\n",
       "    </tr>\n",
       "    <tr>\n",
       "      <td>41372</td>\n",
       "      <td>https://www.zomato.com/bangalore/sree-sagar-ba...</td>\n",
       "      <td>8, Yarab Nagar Main Road, 2nd Stage, Banashank...</td>\n",
       "      <td>Sree Sagar</td>\n",
       "      <td>Yes</td>\n",
       "      <td>No</td>\n",
       "      <td>0</td>\n",
       "      <td>+91 9449150005</td>\n",
       "      <td>Banashankari</td>\n",
       "      <td>Quick Bites</td>\n",
       "      <td>NaN</td>\n",
       "      <td>South Indian</td>\n",
       "      <td>200</td>\n",
       "      <td>[('Rated 3.5', \"RATED\\n  Visited this restaura...</td>\n",
       "      <td>[]</td>\n",
       "      <td>Dine-out</td>\n",
       "      <td>Basavanagudi</td>\n",
       "      <td>NaN</td>\n",
       "    </tr>\n",
       "  </tbody>\n",
       "</table>\n",
       "</div>"
      ],
      "text/plain": [
       "                                                     url  \\\n",
       "41368  https://www.zomato.com/bangalore/koshys-st-mar...   \n",
       "41369  https://www.zomato.com/bangalore/midnight-spec...   \n",
       "41370  https://www.zomato.com/bangalore/sholay-the-ba...   \n",
       "41371  https://www.zomato.com/bangalore/ghar-ka-bhoja...   \n",
       "41372  https://www.zomato.com/bangalore/sree-sagar-ba...   \n",
       "\n",
       "                                                 address  \\\n",
       "41368                      39, St. Marks Road, Bangalore   \n",
       "41369  521, 2nd Floor, Teachers Colony, Sarjapura Rin...   \n",
       "41370  1, RMV 2nd Stage, 3rd Block, Chikkamaranahalli...   \n",
       "41371  93, 1st Floor, Opoosite Venkateshwara Temple, ...   \n",
       "41372  8, Yarab Nagar Main Road, 2nd Stage, Banashank...   \n",
       "\n",
       "                        name online_order book_table  votes  \\\n",
       "41368                Koshy's           No         No   2332   \n",
       "41369       Midnight Special          Yes         No      0   \n",
       "41370  Sholay - The Barbeque          Yes        Yes     45   \n",
       "41371         Ghar Ka Bhojan           No         No      7   \n",
       "41372             Sree Sagar          Yes         No      0   \n",
       "\n",
       "                                phone        location           rest_type  \\\n",
       "41368      080 22915840\\n080 22213793  St. Marks Road       Casual Dining   \n",
       "41369                 +91 80420780493             HSR  Takeaway, Delivery   \n",
       "41370                  +91 7619328882    New BEL Road       Casual Dining   \n",
       "41371  +91 9945810850\\n+91 9997888609          Domlur            Delivery   \n",
       "41372                  +91 9449150005    Banashankari         Quick Bites   \n",
       "\n",
       "                                              dish_liked  \\\n",
       "41368  Coffee, Kulfi, Beef Steak, Chocolate Shake, Sa...   \n",
       "41369                                                NaN   \n",
       "41370                                                NaN   \n",
       "41371                                                NaN   \n",
       "41372                                                NaN   \n",
       "\n",
       "                                             cuisines  \\\n",
       "41368  South Indian, North Indian, Chinese, Beverages   \n",
       "41369                North Indian, Fast Food, Chinese   \n",
       "41370                               North Indian, BBQ   \n",
       "41371                      North Indian, Healthy Food   \n",
       "41372                                    South Indian   \n",
       "\n",
       "      approx_cost(for two people)  \\\n",
       "41368                         700   \n",
       "41369                         500   \n",
       "41370                       1,200   \n",
       "41371                         200   \n",
       "41372                         200   \n",
       "\n",
       "                                            reviews_list menu_item  \\\n",
       "41368  [('Rated 4.0', 'RATED\\n  A place where you get...        []   \n",
       "41369                                                 []        []   \n",
       "41370  [('Rated 2.0', 'RATED\\n  That building homes t...        []   \n",
       "41371  [('Rated 1.0', 'RATED\\n  Food not upto the mar...        []   \n",
       "41372  [('Rated 3.5', \"RATED\\n  Visited this restaura...        []   \n",
       "\n",
       "      listed_in(type)        listed_in(city) rates  \n",
       "41368        Dine-out         Residency Road  3.8   \n",
       "41369        Delivery  Koramangala 4th Block   NaN  \n",
       "41370        Dine-out           New BEL Road  3.5   \n",
       "41371        Delivery                MG Road  3.3   \n",
       "41372        Dine-out           Basavanagudi   NaN  "
      ]
     },
     "execution_count": 104,
     "metadata": {},
     "output_type": "execute_result"
    }
   ],
   "source": [
    "data.tail()"
   ]
  },
  {
   "cell_type": "code",
   "execution_count": 105,
   "metadata": {},
   "outputs": [
    {
     "data": {
      "text/plain": [
       "Index(['url', 'address', 'name', 'online_order', 'book_table', 'votes',\n",
       "       'phone', 'location', 'rest_type', 'dish_liked', 'cuisines',\n",
       "       'approx_cost(for two people)', 'reviews_list', 'menu_item',\n",
       "       'listed_in(type)', 'listed_in(city)', 'rates'],\n",
       "      dtype='object')"
      ]
     },
     "execution_count": 105,
     "metadata": {},
     "output_type": "execute_result"
    }
   ],
   "source": [
    "data.columns"
   ]
  },
  {
   "cell_type": "markdown",
   "metadata": {},
   "source": [
    "*List of the column names in the given dataset*"
   ]
  },
  {
   "cell_type": "code",
   "execution_count": 106,
   "metadata": {},
   "outputs": [
    {
     "data": {
      "text/plain": [
       "(41373, 17)"
      ]
     },
     "execution_count": 106,
     "metadata": {},
     "output_type": "execute_result"
    }
   ],
   "source": [
    "data.shape"
   ]
  },
  {
   "cell_type": "markdown",
   "metadata": {},
   "source": [
    "*There are 41373 rows abd 17 columns in the dataset*"
   ]
  },
  {
   "cell_type": "code",
   "execution_count": 107,
   "metadata": {},
   "outputs": [
    {
     "name": "stdout",
     "output_type": "stream",
     "text": [
      "<class 'pandas.core.frame.DataFrame'>\n",
      "RangeIndex: 41373 entries, 0 to 41372\n",
      "Data columns (total 17 columns):\n",
      "url                            41373 non-null object\n",
      "address                        41373 non-null object\n",
      "name                           41373 non-null object\n",
      "online_order                   41373 non-null object\n",
      "book_table                     41373 non-null object\n",
      "votes                          41373 non-null int64\n",
      "phone                          40402 non-null object\n",
      "location                       41358 non-null object\n",
      "rest_type                      41198 non-null object\n",
      "dish_liked                     18901 non-null object\n",
      "cuisines                       41341 non-null object\n",
      "approx_cost(for two people)    41094 non-null object\n",
      "reviews_list                   41373 non-null object\n",
      "menu_item                      41373 non-null object\n",
      "listed_in(type)                41373 non-null object\n",
      "listed_in(city)                41373 non-null object\n",
      "rates                          33392 non-null object\n",
      "dtypes: int64(1), object(16)\n",
      "memory usage: 5.4+ MB\n"
     ]
    }
   ],
   "source": [
    "data.info()"
   ]
  },
  {
   "cell_type": "markdown",
   "metadata": {},
   "source": [
    "**Remark :**\n",
    "1. Expect **votes** all the columns are of object type.\n",
    "2. There are missing values in **phone**, **location**, **rest_type**, **dish_liked**, **cuisines**, **approx_cost(for two people)**, **rates** column."
   ]
  },
  {
   "cell_type": "code",
   "execution_count": 108,
   "metadata": {},
   "outputs": [
    {
     "data": {
      "text/html": [
       "<div>\n",
       "<style scoped>\n",
       "    .dataframe tbody tr th:only-of-type {\n",
       "        vertical-align: middle;\n",
       "    }\n",
       "\n",
       "    .dataframe tbody tr th {\n",
       "        vertical-align: top;\n",
       "    }\n",
       "\n",
       "    .dataframe thead th {\n",
       "        text-align: right;\n",
       "    }\n",
       "</style>\n",
       "<table border=\"1\" class=\"dataframe\">\n",
       "  <thead>\n",
       "    <tr style=\"text-align: right;\">\n",
       "      <th></th>\n",
       "      <th>votes</th>\n",
       "    </tr>\n",
       "  </thead>\n",
       "  <tbody>\n",
       "    <tr>\n",
       "      <td>count</td>\n",
       "      <td>41373.000000</td>\n",
       "    </tr>\n",
       "    <tr>\n",
       "      <td>mean</td>\n",
       "      <td>283.771493</td>\n",
       "    </tr>\n",
       "    <tr>\n",
       "      <td>std</td>\n",
       "      <td>806.112459</td>\n",
       "    </tr>\n",
       "    <tr>\n",
       "      <td>min</td>\n",
       "      <td>0.000000</td>\n",
       "    </tr>\n",
       "    <tr>\n",
       "      <td>25%</td>\n",
       "      <td>7.000000</td>\n",
       "    </tr>\n",
       "    <tr>\n",
       "      <td>50%</td>\n",
       "      <td>41.000000</td>\n",
       "    </tr>\n",
       "    <tr>\n",
       "      <td>75%</td>\n",
       "      <td>200.000000</td>\n",
       "    </tr>\n",
       "    <tr>\n",
       "      <td>max</td>\n",
       "      <td>16832.000000</td>\n",
       "    </tr>\n",
       "  </tbody>\n",
       "</table>\n",
       "</div>"
      ],
      "text/plain": [
       "              votes\n",
       "count  41373.000000\n",
       "mean     283.771493\n",
       "std      806.112459\n",
       "min        0.000000\n",
       "25%        7.000000\n",
       "50%       41.000000\n",
       "75%      200.000000\n",
       "max    16832.000000"
      ]
     },
     "execution_count": 108,
     "metadata": {},
     "output_type": "execute_result"
    }
   ],
   "source": [
    "data.describe()"
   ]
  },
  {
   "cell_type": "markdown",
   "metadata": {},
   "source": [
    "**Reamrk:**\n",
    "1. There are 17 columns .But describe function of pandas only applied to the numeric value , thr function is only applied to the **votes** column only\n",
    "2. As the **mean** value is 0 , there is no restuarant without rating .\n",
    "3. The **max** value is 16832 which means there is a restuarant with highest number of ratings.\n"
   ]
  },
  {
   "cell_type": "markdown",
   "metadata": {},
   "source": [
    "**Dealing with missing values**"
   ]
  },
  {
   "cell_type": "code",
   "execution_count": 109,
   "metadata": {},
   "outputs": [
    {
     "data": {
      "text/plain": [
       "url                                0\n",
       "address                            0\n",
       "name                               0\n",
       "online_order                       0\n",
       "book_table                         0\n",
       "votes                              0\n",
       "phone                            971\n",
       "location                          15\n",
       "rest_type                        175\n",
       "dish_liked                     22472\n",
       "cuisines                          32\n",
       "approx_cost(for two people)      279\n",
       "reviews_list                       0\n",
       "menu_item                          0\n",
       "listed_in(type)                    0\n",
       "listed_in(city)                    0\n",
       "rates                           7981\n",
       "dtype: int64"
      ]
     },
     "execution_count": 109,
     "metadata": {},
     "output_type": "execute_result"
    }
   ],
   "source": [
    "data.isna().sum()"
   ]
  },
  {
   "cell_type": "code",
   "execution_count": 110,
   "metadata": {},
   "outputs": [],
   "source": [
    "data=data[data.cuisines.isna()==False]"
   ]
  },
  {
   "cell_type": "markdown",
   "metadata": {},
   "source": [
    "**Remark :**\n",
    "After Studying the data we can clearly delete the following columns as the make are not useful for our analysis **url**, **address**,**phone**,**listed_in(city)**"
   ]
  },
  {
   "cell_type": "code",
   "execution_count": 111,
   "metadata": {},
   "outputs": [],
   "source": [
    "data.drop(columns=[\"url\", 'address','phone','listed_in(city)'], inplace  =True)"
   ]
  },
  {
   "cell_type": "code",
   "execution_count": 112,
   "metadata": {},
   "outputs": [
    {
     "data": {
      "image/png": "[encoded data removed]",
      "text/plain": [
       "<Figure size 1440x504 with 1 Axes>"
      ]
     },
     "metadata": {
      "needs_background": "light"
     },
     "output_type": "display_data"
    }
   ],
   "source": [
    "plt.figure(figsize=(20,7))\n",
    "sns.countplot(data[\"rates\"], palette=\"Set1\")\n",
    "plt.title(\"Count plot of rate variable\")\n",
    "plt.show()"
   ]
  },
  {
   "cell_type": "code",
   "execution_count": 113,
   "metadata": {},
   "outputs": [
    {
     "data": {
      "text/plain": [
       "Cafe Coffee Day      81\n",
       "Onesta               62\n",
       "Empire Restaurant    61\n",
       "Just Bake            61\n",
       "Baskin Robbins       60\n",
       "Name: name, dtype: int64"
      ]
     },
     "execution_count": 113,
     "metadata": {},
     "output_type": "execute_result"
    }
   ],
   "source": [
    "data.name.value_counts().head()"
   ]
  },
  {
   "cell_type": "code",
   "execution_count": 114,
   "metadata": {},
   "outputs": [
    {
     "data": {
      "image/png": "[encoded data removed]",
      "text/plain": [
       "<Figure size 864x432 with 1 Axes>"
      ]
     },
     "metadata": {
      "needs_background": "light"
     },
     "output_type": "display_data"
    }
   ],
   "source": [
    "plt.figure(figsize = (12,6))\n",
    "ax = data.name.value_counts()[:20].plot(kind = 'bar')\n",
    "ax.legend(['Restaurants'])\n",
    "plt.xlabel(\"Name of Restaurant\")\n",
    "plt.ylabel(\"Count of Restaurants\")\n",
    "plt.title(\"Name vs Number of Restaurant\",fontsize =20, weight = 'bold')\n",
    "plt.show()"
   ]
  },
  {
   "cell_type": "markdown",
   "metadata": {},
   "source": [
    "**Cafe Coffee Day** has more number of restuarants"
   ]
  },
  {
   "cell_type": "code",
   "execution_count": 115,
   "metadata": {},
   "outputs": [
    {
     "data": {
      "text/plain": [
       "Yes    24319\n",
       "No     17022\n",
       "Name: online_order, dtype: int64"
      ]
     },
     "execution_count": 115,
     "metadata": {},
     "output_type": "execute_result"
    }
   ],
   "source": [
    "data.online_order.value_counts()"
   ]
  },
  {
   "cell_type": "code",
   "execution_count": 116,
   "metadata": {},
   "outputs": [
    {
     "data": {
      "image/png": "[encoded data removed]",
      "text/plain": [
       "<Figure size 432x288 with 1 Axes>"
      ]
     },
     "metadata": {
      "needs_background": "light"
     },
     "output_type": "display_data"
    }
   ],
   "source": [
    "ax= sns.countplot(data['online_order'])\n",
    "plt.title('Number of Restaurants accepting online orders', weight='bold')\n",
    "plt.xlabel('online orders')\n",
    "plt.show()"
   ]
  },
  {
   "cell_type": "code",
   "execution_count": 117,
   "metadata": {},
   "outputs": [
    {
     "data": {
      "text/plain": [
       "No     36199\n",
       "Yes     5142\n",
       "Name: book_table, dtype: int64"
      ]
     },
     "execution_count": 117,
     "metadata": {},
     "output_type": "execute_result"
    }
   ],
   "source": [
    "data['book_table'].value_counts()"
   ]
  },
  {
   "cell_type": "code",
   "execution_count": 118,
   "metadata": {},
   "outputs": [
    {
     "data": {
      "image/png": "[encoded data removed]",
      "text/plain": [
       "<Figure size 432x288 with 1 Axes>"
      ]
     },
     "metadata": {
      "needs_background": "light"
     },
     "output_type": "display_data"
    }
   ],
   "source": [
    "sns.countplot(data['book_table'], palette= \"Set1\")\n",
    "plt.title(\"No of Restaurant with Book Table Facility\", weight = 'bold')\n",
    "plt.xlabel('Book table facility')\n",
    "plt.ylabel('No of restaurants')\n",
    "plt.show()"
   ]
  },
  {
   "cell_type": "code",
   "execution_count": 119,
   "metadata": {},
   "outputs": [
    {
     "data": {
      "image/png": "[encoded data removed]",
      "text/plain": [
       "<Figure size 1080x576 with 1 Axes>"
      ]
     },
     "metadata": {
      "needs_background": "light"
     },
     "output_type": "display_data"
    }
   ],
   "source": [
    "plt.figure(figsize=(15,8))\n",
    "cuisines=data['cuisines'].value_counts()[:20]\n",
    "sns.barplot(cuisines,cuisines.index)\n",
    "plt.title('Most popular cuisines of Bangalore', size = 20, pad = 15)\n",
    "plt.xlabel('No. of restaurants',size = 15)\n",
    "plt.show()"
   ]
  },
  {
   "cell_type": "code",
   "execution_count": 120,
   "metadata": {},
   "outputs": [
    {
     "data": {
      "text/plain": [
       "BTM                      4077\n",
       "HSR                      2005\n",
       "Koramangala 5th Block    2002\n",
       "JP Nagar                 1807\n",
       "Whitefield               1711\n",
       "Name: location, dtype: int64"
      ]
     },
     "execution_count": 120,
     "metadata": {},
     "output_type": "execute_result"
    }
   ],
   "source": [
    "data['location'].value_counts()[:5]"
   ]
  },
  {
   "cell_type": "code",
   "execution_count": 121,
   "metadata": {},
   "outputs": [
    {
     "data": {
      "image/png": "[encoded data removed]",
      "text/plain": [
       "<Figure size 1008x432 with 1 Axes>"
      ]
     },
     "metadata": {},
     "output_type": "display_data"
    }
   ],
   "source": [
    "plt.figure(figsize=(14,6)) \n",
    "data['location'].value_counts()[:5].plot(kind = 'pie')\n",
    "plt.show()"
   ]
  },
  {
   "cell_type": "code",
   "execution_count": 122,
   "metadata": {},
   "outputs": [
    {
     "data": {
      "text/plain": [
       "300    6046\n",
       "400    5257\n",
       "500    3973\n",
       "200    3869\n",
       "600    2986\n",
       "250    2338\n",
       "800    1823\n",
       "150    1682\n",
       "700    1566\n",
       "350    1401\n",
       "Name: approx_cost(for two people), dtype: int64"
      ]
     },
     "execution_count": 122,
     "metadata": {},
     "output_type": "execute_result"
    }
   ],
   "source": [
    "data['approx_cost(for two people)'].value_counts()[:10]"
   ]
  },
  {
   "cell_type": "code",
   "execution_count": 123,
   "metadata": {
    "scrolled": true
   },
   "outputs": [
    {
     "data": {
      "image/png": "[encoded data removed]",
      "text/plain": [
       "<Figure size 864x576 with 1 Axes>"
      ]
     },
     "metadata": {},
     "output_type": "display_data"
    }
   ],
   "source": [
    "plt.figure(figsize = (12,8))\n",
    "data['approx_cost(for two people)'].value_counts()[:10].plot(kind = 'pie')\n",
    "plt.title('Avg cost in Restaurent for 2 people', weight = 'bold')\n",
    "plt.show()"
   ]
  },
  {
   "cell_type": "markdown",
   "metadata": {},
   "source": [
    "**Convert categorical data**"
   ]
  },
  {
   "cell_type": "code",
   "execution_count": 125,
   "metadata": {},
   "outputs": [
    {
     "data": {
      "text/html": [
       "<div>\n",
       "<style scoped>\n",
       "    .dataframe tbody tr th:only-of-type {\n",
       "        vertical-align: middle;\n",
       "    }\n",
       "\n",
       "    .dataframe tbody tr th {\n",
       "        vertical-align: top;\n",
       "    }\n",
       "\n",
       "    .dataframe thead th {\n",
       "        text-align: right;\n",
       "    }\n",
       "</style>\n",
       "<table border=\"1\" class=\"dataframe\">\n",
       "  <thead>\n",
       "    <tr style=\"text-align: right;\">\n",
       "      <th></th>\n",
       "      <th>name</th>\n",
       "      <th>online_order</th>\n",
       "      <th>book_table</th>\n",
       "      <th>votes</th>\n",
       "      <th>location</th>\n",
       "      <th>rest_type</th>\n",
       "      <th>dish_liked</th>\n",
       "      <th>cuisines</th>\n",
       "      <th>approx_cost(for two people)</th>\n",
       "      <th>reviews_list</th>\n",
       "      <th>menu_item</th>\n",
       "      <th>listed_in(type)</th>\n",
       "      <th>rates</th>\n",
       "    </tr>\n",
       "  </thead>\n",
       "  <tbody>\n",
       "    <tr>\n",
       "      <td>0</td>\n",
       "      <td>Al Swaad Take Away</td>\n",
       "      <td>1</td>\n",
       "      <td>0</td>\n",
       "      <td>13</td>\n",
       "      <td>Richmond Road</td>\n",
       "      <td>Quick Bites</td>\n",
       "      <td>NaN</td>\n",
       "      <td>North Indian, South Indian, Arabian</td>\n",
       "      <td>350</td>\n",
       "      <td>[('Rated 1.0', 'RATED\\n  If U need reasonable ...</td>\n",
       "      <td>['Beef Seekh Kabab', 'Beef BBQ Chops', 'Beef M...</td>\n",
       "      <td>Delivery</td>\n",
       "      <td>3.1</td>\n",
       "    </tr>\n",
       "    <tr>\n",
       "      <td>1</td>\n",
       "      <td>The Boozy Griffin</td>\n",
       "      <td>0</td>\n",
       "      <td>1</td>\n",
       "      <td>5015</td>\n",
       "      <td>Koramangala 5th Block</td>\n",
       "      <td>Casual Dining, Pub</td>\n",
       "      <td>Cocktails, Craft Beer, Salads, Devils Chicken,...</td>\n",
       "      <td>European, Continental</td>\n",
       "      <td>1,800</td>\n",
       "      <td>[('Rated 5.0', 'RATED\\n  Really great ambience...</td>\n",
       "      <td>[]</td>\n",
       "      <td>Dine-out</td>\n",
       "      <td>4.6</td>\n",
       "    </tr>\n",
       "    <tr>\n",
       "      <td>2</td>\n",
       "      <td>Barkat</td>\n",
       "      <td>0</td>\n",
       "      <td>0</td>\n",
       "      <td>6</td>\n",
       "      <td>BTM</td>\n",
       "      <td>Quick Bites</td>\n",
       "      <td>NaN</td>\n",
       "      <td>Kerala</td>\n",
       "      <td>250</td>\n",
       "      <td>[]</td>\n",
       "      <td>[]</td>\n",
       "      <td>Dine-out</td>\n",
       "      <td>3.4</td>\n",
       "    </tr>\n",
       "    <tr>\n",
       "      <td>3</td>\n",
       "      <td>Sriracha</td>\n",
       "      <td>0</td>\n",
       "      <td>0</td>\n",
       "      <td>699</td>\n",
       "      <td>Lavelle Road</td>\n",
       "      <td>Casual Dining</td>\n",
       "      <td>Noodles, Laksa, Cocktails, Dumplings, Sangria,...</td>\n",
       "      <td>Thai, Chinese, Indonesian, Asian, Momos</td>\n",
       "      <td>1,500</td>\n",
       "      <td>[('Rated 3.0', 'RATED\\n  Another restaurant in...</td>\n",
       "      <td>[]</td>\n",
       "      <td>Dine-out</td>\n",
       "      <td>4.3</td>\n",
       "    </tr>\n",
       "    <tr>\n",
       "      <td>4</td>\n",
       "      <td>Sri Ganesh Juice Junction</td>\n",
       "      <td>1</td>\n",
       "      <td>0</td>\n",
       "      <td>129</td>\n",
       "      <td>Koramangala 8th Block</td>\n",
       "      <td>Beverage Shop</td>\n",
       "      <td>NaN</td>\n",
       "      <td>Juices, Fast Food</td>\n",
       "      <td>150</td>\n",
       "      <td>[('Rated 4.0', 'RATED\\n  Good cafe with most v...</td>\n",
       "      <td>['Dry Fruit Milkshake', 'Wheat Grass with Wate...</td>\n",
       "      <td>Delivery</td>\n",
       "      <td>3.7</td>\n",
       "    </tr>\n",
       "  </tbody>\n",
       "</table>\n",
       "</div>"
      ],
      "text/plain": [
       "                        name  online_order  book_table  votes  \\\n",
       "0         Al Swaad Take Away             1           0     13   \n",
       "1          The Boozy Griffin             0           1   5015   \n",
       "2                     Barkat             0           0      6   \n",
       "3                   Sriracha             0           0    699   \n",
       "4  Sri Ganesh Juice Junction             1           0    129   \n",
       "\n",
       "                location           rest_type  \\\n",
       "0          Richmond Road         Quick Bites   \n",
       "1  Koramangala 5th Block  Casual Dining, Pub   \n",
       "2                    BTM         Quick Bites   \n",
       "3           Lavelle Road       Casual Dining   \n",
       "4  Koramangala 8th Block       Beverage Shop   \n",
       "\n",
       "                                          dish_liked  \\\n",
       "0                                                NaN   \n",
       "1  Cocktails, Craft Beer, Salads, Devils Chicken,...   \n",
       "2                                                NaN   \n",
       "3  Noodles, Laksa, Cocktails, Dumplings, Sangria,...   \n",
       "4                                                NaN   \n",
       "\n",
       "                                  cuisines approx_cost(for two people)  \\\n",
       "0      North Indian, South Indian, Arabian                         350   \n",
       "1                    European, Continental                       1,800   \n",
       "2                                   Kerala                         250   \n",
       "3  Thai, Chinese, Indonesian, Asian, Momos                       1,500   \n",
       "4                        Juices, Fast Food                         150   \n",
       "\n",
       "                                        reviews_list  \\\n",
       "0  [('Rated 1.0', 'RATED\\n  If U need reasonable ...   \n",
       "1  [('Rated 5.0', 'RATED\\n  Really great ambience...   \n",
       "2                                                 []   \n",
       "3  [('Rated 3.0', 'RATED\\n  Another restaurant in...   \n",
       "4  [('Rated 4.0', 'RATED\\n  Good cafe with most v...   \n",
       "\n",
       "                                           menu_item listed_in(type) rates  \n",
       "0  ['Beef Seekh Kabab', 'Beef BBQ Chops', 'Beef M...        Delivery  3.1   \n",
       "1                                                 []        Dine-out  4.6   \n",
       "2                                                 []        Dine-out  3.4   \n",
       "3                                                 []        Dine-out  4.3   \n",
       "4  ['Dry Fruit Milkshake', 'Wheat Grass with Wate...        Delivery  3.7   "
      ]
     },
     "execution_count": 125,
     "metadata": {},
     "output_type": "execute_result"
    }
   ],
   "source": [
    "data['online_order']= pd.get_dummies(data.online_order, drop_first=True)\n",
    "data['book_table']= pd.get_dummies(data.book_table, drop_first=True)\n",
    "data.head()"
   ]
  },
  {
   "cell_type": "code",
   "execution_count": 126,
   "metadata": {},
   "outputs": [
    {
     "name": "stdout",
     "output_type": "stream",
     "text": [
      "<class 'pandas.core.frame.DataFrame'>\n",
      "Int64Index: 41341 entries, 0 to 41372\n",
      "Data columns (total 13 columns):\n",
      "name                           41341 non-null object\n",
      "online_order                   41341 non-null uint8\n",
      "book_table                     41341 non-null uint8\n",
      "votes                          41341 non-null int64\n",
      "location                       41341 non-null object\n",
      "rest_type                      41181 non-null object\n",
      "dish_liked                     18901 non-null object\n",
      "cuisines                       41341 non-null object\n",
      "approx_cost(for two people)    41080 non-null object\n",
      "reviews_list                   41341 non-null object\n",
      "menu_item                      41341 non-null object\n",
      "listed_in(type)                41341 non-null object\n",
      "rates                          33386 non-null object\n",
      "dtypes: int64(1), object(10), uint8(2)\n",
      "memory usage: 5.1+ MB\n"
     ]
    }
   ],
   "source": [
    "data.info()"
   ]
  },
  {
   "cell_type": "markdown",
   "metadata": {},
   "source": [
    "*From above, it is found that the column \"dish_liked\" has more than 50% values missing.Dropping the column **dish_liked**, **phone**, **url** *"
   ]
  },
  {
   "cell_type": "code",
   "execution_count": 127,
   "metadata": {},
   "outputs": [],
   "source": [
    "data.drop(columns=['dish_liked','reviews_list','menu_item','listed_in(type)'], inplace  =True)"
   ]
  },
  {
   "cell_type": "code",
   "execution_count": 128,
   "metadata": {},
   "outputs": [
    {
     "data": {
      "text/plain": [
       "Bites Quick       15292\n",
       "Casual Dining      8320\n",
       "Cafe               2960\n",
       "Delivery           2077\n",
       "Dessert Parlor     1814\n",
       "Name: rest_type, dtype: int64"
      ]
     },
     "execution_count": 128,
     "metadata": {},
     "output_type": "execute_result"
    }
   ],
   "source": [
    "data['rest_type'] = data['rest_type'].str.replace(',' , '') \n",
    "data['rest_type'] = data['rest_type'].astype(str).apply(lambda x: ' '.join(sorted(x.split())))\n",
    "data['rest_type'].value_counts().head()"
   ]
  },
  {
   "cell_type": "code",
   "execution_count": 129,
   "metadata": {},
   "outputs": [
    {
     "data": {
      "text/plain": [
       "Indian North                         2348\n",
       "Chinese Indian North                 2261\n",
       "Indian South                         1474\n",
       "Chinese Indian Indian North South    1219\n",
       "Bakery Desserts                       901\n",
       "Name: cuisines, dtype: int64"
      ]
     },
     "execution_count": 129,
     "metadata": {},
     "output_type": "execute_result"
    }
   ],
   "source": [
    "data['cuisines'] = data['cuisines'].str.replace(',' , '') \n",
    "data['cuisines'] = data['cuisines'].astype(str).apply(lambda x: ' '.join(sorted(x.split())))\n",
    "data['cuisines'].value_counts().head()"
   ]
  },
  {
   "cell_type": "markdown",
   "metadata": {},
   "source": [
    "**ONE HOT ENCODING**"
   ]
  },
  {
   "cell_type": "code",
   "execution_count": 130,
   "metadata": {},
   "outputs": [],
   "source": [
    "from sklearn.preprocessing import LabelEncoder\n",
    "T = LabelEncoder()                 \n",
    "data['location'] = T.fit_transform(data['location'])\n",
    "data['rest_type'] = T.fit_transform(data['rest_type'])\n",
    "data['cuisines'] = T.fit_transform(data['cuisines'])"
   ]
  },
  {
   "cell_type": "markdown",
   "metadata": {},
   "source": [
    "**Convert string data type to float data type**"
   ]
  },
  {
   "cell_type": "code",
   "execution_count": 131,
   "metadata": {},
   "outputs": [
    {
     "data": {
      "text/html": [
       "<div>\n",
       "<style scoped>\n",
       "    .dataframe tbody tr th:only-of-type {\n",
       "        vertical-align: middle;\n",
       "    }\n",
       "\n",
       "    .dataframe tbody tr th {\n",
       "        vertical-align: top;\n",
       "    }\n",
       "\n",
       "    .dataframe thead th {\n",
       "        text-align: right;\n",
       "    }\n",
       "</style>\n",
       "<table border=\"1\" class=\"dataframe\">\n",
       "  <thead>\n",
       "    <tr style=\"text-align: right;\">\n",
       "      <th></th>\n",
       "      <th>name</th>\n",
       "      <th>online_order</th>\n",
       "      <th>book_table</th>\n",
       "      <th>votes</th>\n",
       "      <th>location</th>\n",
       "      <th>rest_type</th>\n",
       "      <th>cuisines</th>\n",
       "      <th>approx_cost(for two people)</th>\n",
       "      <th>rates</th>\n",
       "    </tr>\n",
       "  </thead>\n",
       "  <tbody>\n",
       "    <tr>\n",
       "      <td>0</td>\n",
       "      <td>Al Swaad Take Away</td>\n",
       "      <td>1</td>\n",
       "      <td>0</td>\n",
       "      <td>13</td>\n",
       "      <td>71</td>\n",
       "      <td>29</td>\n",
       "      <td>321</td>\n",
       "      <td>350.0</td>\n",
       "      <td>3.1</td>\n",
       "    </tr>\n",
       "    <tr>\n",
       "      <td>1</td>\n",
       "      <td>The Boozy Griffin</td>\n",
       "      <td>0</td>\n",
       "      <td>1</td>\n",
       "      <td>5015</td>\n",
       "      <td>45</td>\n",
       "      <td>43</td>\n",
       "      <td>1461</td>\n",
       "      <td>1800.0</td>\n",
       "      <td>4.6</td>\n",
       "    </tr>\n",
       "    <tr>\n",
       "      <td>2</td>\n",
       "      <td>Barkat</td>\n",
       "      <td>0</td>\n",
       "      <td>0</td>\n",
       "      <td>6</td>\n",
       "      <td>0</td>\n",
       "      <td>29</td>\n",
       "      <td>1824</td>\n",
       "      <td>250.0</td>\n",
       "      <td>3.4</td>\n",
       "    </tr>\n",
       "    <tr>\n",
       "      <td>3</td>\n",
       "      <td>Sriracha</td>\n",
       "      <td>0</td>\n",
       "      <td>0</td>\n",
       "      <td>699</td>\n",
       "      <td>51</td>\n",
       "      <td>40</td>\n",
       "      <td>376</td>\n",
       "      <td>1500.0</td>\n",
       "      <td>4.3</td>\n",
       "    </tr>\n",
       "    <tr>\n",
       "      <td>4</td>\n",
       "      <td>Sri Ganesh Juice Junction</td>\n",
       "      <td>1</td>\n",
       "      <td>0</td>\n",
       "      <td>129</td>\n",
       "      <td>48</td>\n",
       "      <td>20</td>\n",
       "      <td>1639</td>\n",
       "      <td>150.0</td>\n",
       "      <td>3.7</td>\n",
       "    </tr>\n",
       "  </tbody>\n",
       "</table>\n",
       "</div>"
      ],
      "text/plain": [
       "                        name  online_order  book_table  votes  location  \\\n",
       "0         Al Swaad Take Away             1           0     13        71   \n",
       "1          The Boozy Griffin             0           1   5015        45   \n",
       "2                     Barkat             0           0      6         0   \n",
       "3                   Sriracha             0           0    699        51   \n",
       "4  Sri Ganesh Juice Junction             1           0    129        48   \n",
       "\n",
       "   rest_type  cuisines  approx_cost(for two people) rates  \n",
       "0         29       321                        350.0  3.1   \n",
       "1         43      1461                       1800.0  4.6   \n",
       "2         29      1824                        250.0  3.4   \n",
       "3         40       376                       1500.0  4.3   \n",
       "4         20      1639                        150.0  3.7   "
      ]
     },
     "execution_count": 131,
     "metadata": {},
     "output_type": "execute_result"
    }
   ],
   "source": [
    "data[\"approx_cost(for two people)\"] = data[\"approx_cost(for two people)\"].str.replace(',' , '') \n",
    "data[\"approx_cost(for two people)\"] = data[\"approx_cost(for two people)\"].astype('float')\n",
    "data.head()"
   ]
  },
  {
   "cell_type": "code",
   "execution_count": 132,
   "metadata": {
    "scrolled": true
   },
   "outputs": [
    {
     "data": {
      "text/plain": [
       "array(['3.1 ', '4.6 ', '3.4 ', '4.3 ', '3.7 ', '3.0', '3.9 ', '4.1',\n",
       "       '3.6', '3.8 ', '3.2', '3.6 ', nan, '3.2 ', '3.3 ', '2.9', '4.4',\n",
       "       '3.9', '4.3', '3.8', '3.4', '4.2 ', '3.7', '4.1 ', '4.0 ', '3.5',\n",
       "       '2.7 ', '4.5', '4.6', '4.2', '4.7', '2.9 ', '3.5 ', '2.8 ', '2.7',\n",
       "       '3.1', '3.0 ', '4.4 ', '2.2', '4.5 ', '3.3', '2.6', '4.0', '2.8',\n",
       "       '-', '2.5', '2.6 ', '4.7 ', '2.3', '4.8', '4.8 ', '2.3 ', '2.4 ',\n",
       "       '2.5 ', '4.9 ', '4.9', '2.4', '2.1', '2.0 ', '1.8', '2.2 ', '2.1 ',\n",
       "       '2.0', '1.8 '], dtype=object)"
      ]
     },
     "execution_count": 132,
     "metadata": {},
     "output_type": "execute_result"
    }
   ],
   "source": [
    "data.rates.unique()"
   ]
  },
  {
   "cell_type": "markdown",
   "metadata": {},
   "source": [
    "**The \"rates\" column contain Null values and '-' values\n",
    "Remove this values andd convert the data type to float** "
   ]
  },
  {
   "cell_type": "code",
   "execution_count": 133,
   "metadata": {},
   "outputs": [],
   "source": [
    "\n",
    "data['rates'] = data['rates'].replace('-',np.NaN)\n",
    "data.dropna(how = 'any', inplace = True)"
   ]
  },
  {
   "cell_type": "code",
   "execution_count": 134,
   "metadata": {},
   "outputs": [],
   "source": [
    "data['rates'] = data.loc[:,'rates'].replace('[ ]','',regex = True)\n",
    "data['rates'] = data['rates'].astype(str)\n",
    "data['rates'] = data['rates'].apply(lambda r: float(r))"
   ]
  },
  {
   "cell_type": "code",
   "execution_count": 135,
   "metadata": {},
   "outputs": [
    {
     "name": "stdout",
     "output_type": "stream",
     "text": [
      "<class 'pandas.core.frame.DataFrame'>\n",
      "Int64Index: 33132 entries, 0 to 41371\n",
      "Data columns (total 9 columns):\n",
      "name                           33132 non-null object\n",
      "online_order                   33132 non-null uint8\n",
      "book_table                     33132 non-null uint8\n",
      "votes                          33132 non-null int64\n",
      "location                       33132 non-null int32\n",
      "rest_type                      33132 non-null int32\n",
      "cuisines                       33132 non-null int32\n",
      "approx_cost(for two people)    33132 non-null float64\n",
      "rates                          33132 non-null float64\n",
      "dtypes: float64(2), int32(3), int64(1), object(1), uint8(2)\n",
      "memory usage: 1.7+ MB\n"
     ]
    }
   ],
   "source": [
    "data.info()"
   ]
  },
  {
   "cell_type": "markdown",
   "metadata": {},
   "source": [
    "**Spliting the dataset**"
   ]
  },
  {
   "cell_type": "code",
   "execution_count": 136,
   "metadata": {},
   "outputs": [],
   "source": [
    "x = data.drop(['rates','name'],axis = 1)"
   ]
  },
  {
   "cell_type": "code",
   "execution_count": 137,
   "metadata": {},
   "outputs": [],
   "source": [
    "y = data['rates']"
   ]
  },
  {
   "cell_type": "code",
   "execution_count": 138,
   "metadata": {},
   "outputs": [
    {
     "data": {
      "text/plain": [
       "(33132, 7)"
      ]
     },
     "execution_count": 138,
     "metadata": {},
     "output_type": "execute_result"
    }
   ],
   "source": [
    "x.shape"
   ]
  },
  {
   "cell_type": "code",
   "execution_count": 139,
   "metadata": {},
   "outputs": [
    {
     "data": {
      "text/plain": [
       "(33132,)"
      ]
     },
     "execution_count": 139,
     "metadata": {},
     "output_type": "execute_result"
    }
   ],
   "source": [
    "y.shape"
   ]
  },
  {
   "cell_type": "code",
   "execution_count": 140,
   "metadata": {},
   "outputs": [],
   "source": [
    "from sklearn.model_selection import train_test_split\n",
    "X_train,X_test,y_train,y_test = train_test_split(x,y,test_size = 0.3,random_state = 30)"
   ]
  },
  {
   "cell_type": "markdown",
   "metadata": {},
   "source": [
    "**Standardization of values**"
   ]
  },
  {
   "cell_type": "code",
   "execution_count": 141,
   "metadata": {},
   "outputs": [],
   "source": [
    "from sklearn.preprocessing import StandardScaler\n",
    "num_values1=data.select_dtypes(['float64','int64','int32']).columns\n",
    "scaler = StandardScaler()\n",
    "scaler.fit(data[num_values1])\n",
    "data[num_values1]=scaler.transform(data[num_values1])"
   ]
  },
  {
   "cell_type": "code",
   "execution_count": 142,
   "metadata": {},
   "outputs": [
    {
     "data": {
      "text/html": [
       "<div>\n",
       "<style scoped>\n",
       "    .dataframe tbody tr th:only-of-type {\n",
       "        vertical-align: middle;\n",
       "    }\n",
       "\n",
       "    .dataframe tbody tr th {\n",
       "        vertical-align: top;\n",
       "    }\n",
       "\n",
       "    .dataframe thead th {\n",
       "        text-align: right;\n",
       "    }\n",
       "</style>\n",
       "<table border=\"1\" class=\"dataframe\">\n",
       "  <thead>\n",
       "    <tr style=\"text-align: right;\">\n",
       "      <th></th>\n",
       "      <th>name</th>\n",
       "      <th>online_order</th>\n",
       "      <th>book_table</th>\n",
       "      <th>votes</th>\n",
       "      <th>location</th>\n",
       "      <th>rest_type</th>\n",
       "      <th>cuisines</th>\n",
       "      <th>approx_cost(for two people)</th>\n",
       "      <th>rates</th>\n",
       "    </tr>\n",
       "  </thead>\n",
       "  <tbody>\n",
       "    <tr>\n",
       "      <td>0</td>\n",
       "      <td>Al Swaad Take Away</td>\n",
       "      <td>1</td>\n",
       "      <td>0</td>\n",
       "      <td>-0.382798</td>\n",
       "      <td>1.296938</td>\n",
       "      <td>-0.402624</td>\n",
       "      <td>-1.626691</td>\n",
       "      <td>-0.543020</td>\n",
       "      <td>-1.364525</td>\n",
       "    </tr>\n",
       "    <tr>\n",
       "      <td>1</td>\n",
       "      <td>The Boozy Griffin</td>\n",
       "      <td>0</td>\n",
       "      <td>1</td>\n",
       "      <td>5.266555</td>\n",
       "      <td>0.327986</td>\n",
       "      <td>0.663915</td>\n",
       "      <td>0.599217</td>\n",
       "      <td>2.582958</td>\n",
       "      <td>2.042023</td>\n",
       "    </tr>\n",
       "    <tr>\n",
       "      <td>2</td>\n",
       "      <td>Barkat</td>\n",
       "      <td>0</td>\n",
       "      <td>0</td>\n",
       "      <td>-0.390703</td>\n",
       "      <td>-1.349046</td>\n",
       "      <td>-0.402624</td>\n",
       "      <td>1.307994</td>\n",
       "      <td>-0.758605</td>\n",
       "      <td>-0.683215</td>\n",
       "    </tr>\n",
       "    <tr>\n",
       "      <td>3</td>\n",
       "      <td>Sriracha</td>\n",
       "      <td>0</td>\n",
       "      <td>0</td>\n",
       "      <td>0.391984</td>\n",
       "      <td>0.551590</td>\n",
       "      <td>0.435371</td>\n",
       "      <td>-1.519301</td>\n",
       "      <td>1.936203</td>\n",
       "      <td>1.360713</td>\n",
       "    </tr>\n",
       "    <tr>\n",
       "      <td>4</td>\n",
       "      <td>Sri Ganesh Juice Junction</td>\n",
       "      <td>1</td>\n",
       "      <td>0</td>\n",
       "      <td>-0.251785</td>\n",
       "      <td>0.439788</td>\n",
       "      <td>-1.088256</td>\n",
       "      <td>0.946772</td>\n",
       "      <td>-0.974190</td>\n",
       "      <td>-0.001906</td>\n",
       "    </tr>\n",
       "  </tbody>\n",
       "</table>\n",
       "</div>"
      ],
      "text/plain": [
       "                        name  online_order  book_table     votes  location  \\\n",
       "0         Al Swaad Take Away             1           0 -0.382798  1.296938   \n",
       "1          The Boozy Griffin             0           1  5.266555  0.327986   \n",
       "2                     Barkat             0           0 -0.390703 -1.349046   \n",
       "3                   Sriracha             0           0  0.391984  0.551590   \n",
       "4  Sri Ganesh Juice Junction             1           0 -0.251785  0.439788   \n",
       "\n",
       "   rest_type  cuisines  approx_cost(for two people)     rates  \n",
       "0  -0.402624 -1.626691                    -0.543020 -1.364525  \n",
       "1   0.663915  0.599217                     2.582958  2.042023  \n",
       "2  -0.402624  1.307994                    -0.758605 -0.683215  \n",
       "3   0.435371 -1.519301                     1.936203  1.360713  \n",
       "4  -1.088256  0.946772                    -0.974190 -0.001906  "
      ]
     },
     "execution_count": 142,
     "metadata": {},
     "output_type": "execute_result"
    }
   ],
   "source": [
    "data.head()"
   ]
  },
  {
   "cell_type": "markdown",
   "metadata": {},
   "source": [
    "**Linear Regression**"
   ]
  },
  {
   "cell_type": "code",
   "execution_count": 143,
   "metadata": {},
   "outputs": [],
   "source": [
    "from sklearn.linear_model import LinearRegression\n",
    "lr = LinearRegression()\n",
    "lr.fit(X_train,y_train)\n",
    "y_pred_lr = lr.predict(X_test)"
   ]
  },
  {
   "cell_type": "code",
   "execution_count": 144,
   "metadata": {},
   "outputs": [
    {
     "data": {
      "text/plain": [
       "29.807873265194008"
      ]
     },
     "execution_count": 144,
     "metadata": {},
     "output_type": "execute_result"
    }
   ],
   "source": [
    "lr.score(X_test, y_test)*100"
   ]
  },
  {
   "cell_type": "markdown",
   "metadata": {},
   "source": [
    "* Linear Regression provides accuracy of 29.81%"
   ]
  },
  {
   "cell_type": "markdown",
   "metadata": {},
   "source": [
    "**Decision Tree Regression**"
   ]
  },
  {
   "cell_type": "code",
   "execution_count": 145,
   "metadata": {},
   "outputs": [],
   "source": [
    "from sklearn.tree import DecisionTreeRegressor"
   ]
  },
  {
   "cell_type": "code",
   "execution_count": 146,
   "metadata": {},
   "outputs": [],
   "source": [
    "DTree=DecisionTreeRegressor(min_samples_leaf=.0001)"
   ]
  },
  {
   "cell_type": "code",
   "execution_count": 147,
   "metadata": {},
   "outputs": [],
   "source": [
    "DTree.fit(X_train,y_train)\n",
    "y_predict=DTree.predict(X_test)"
   ]
  },
  {
   "cell_type": "code",
   "execution_count": 148,
   "metadata": {},
   "outputs": [
    {
     "data": {
      "text/plain": [
       "77.83892450617789"
      ]
     },
     "execution_count": 148,
     "metadata": {},
     "output_type": "execute_result"
    }
   ],
   "source": [
    "DTree.score(X_test, y_test)*100"
   ]
  },
  {
   "cell_type": "markdown",
   "metadata": {},
   "source": [
    "* Decision Tree Regression provides accuracy of 77.84%"
   ]
  },
  {
   "cell_type": "markdown",
   "metadata": {},
   "source": [
    "**Random Forest Regression**"
   ]
  },
  {
   "cell_type": "code",
   "execution_count": 149,
   "metadata": {},
   "outputs": [
    {
     "name": "stderr",
     "output_type": "stream",
     "text": [
      "C:\\ProgramData\\Anaconda3\\lib\\site-packages\\sklearn\\ensemble\\forest.py:245: FutureWarning: The default value of n_estimators will change from 10 in version 0.20 to 100 in 0.22.\n",
      "  \"10 in version 0.20 to 100 in 0.22.\", FutureWarning)\n"
     ]
    }
   ],
   "source": [
    "from sklearn import metrics\n",
    "from sklearn.ensemble import RandomForestRegressor\n",
    "rfr = RandomForestRegressor()\n",
    "rfr.fit(X_train,y_train)\n",
    "y_pred_rfr = rfr.predict(X_test)"
   ]
  },
  {
   "cell_type": "code",
   "execution_count": 150,
   "metadata": {},
   "outputs": [
    {
     "data": {
      "text/plain": [
       "88.73222157614946"
      ]
     },
     "execution_count": 150,
     "metadata": {},
     "output_type": "execute_result"
    }
   ],
   "source": [
    "rfr.score(X_test,y_test)*100"
   ]
  },
  {
   "cell_type": "markdown",
   "metadata": {},
   "source": [
    "* Random Forest Regression provides accuracy of 88.73%"
   ]
  },
  {
   "cell_type": "markdown",
   "metadata": {},
   "source": [
    "**Compare actual and predicted values**"
   ]
  },
  {
   "cell_type": "markdown",
   "metadata": {},
   "source": [
    "**Prediction for Random Forest Regression**"
   ]
  },
  {
   "cell_type": "code",
   "execution_count": 155,
   "metadata": {},
   "outputs": [
    {
     "data": {
      "text/html": [
       "<div>\n",
       "<style scoped>\n",
       "    .dataframe tbody tr th:only-of-type {\n",
       "        vertical-align: middle;\n",
       "    }\n",
       "\n",
       "    .dataframe tbody tr th {\n",
       "        vertical-align: top;\n",
       "    }\n",
       "\n",
       "    .dataframe thead th {\n",
       "        text-align: right;\n",
       "    }\n",
       "</style>\n",
       "<table border=\"1\" class=\"dataframe\">\n",
       "  <thead>\n",
       "    <tr style=\"text-align: right;\">\n",
       "      <th></th>\n",
       "      <th>actual</th>\n",
       "      <th>pred</th>\n",
       "    </tr>\n",
       "  </thead>\n",
       "  <tbody>\n",
       "    <tr>\n",
       "      <td>32557</td>\n",
       "      <td>3.6</td>\n",
       "      <td>3.580000</td>\n",
       "    </tr>\n",
       "    <tr>\n",
       "      <td>25480</td>\n",
       "      <td>3.8</td>\n",
       "      <td>3.770000</td>\n",
       "    </tr>\n",
       "    <tr>\n",
       "      <td>5744</td>\n",
       "      <td>4.2</td>\n",
       "      <td>4.190000</td>\n",
       "    </tr>\n",
       "    <tr>\n",
       "      <td>38358</td>\n",
       "      <td>4.5</td>\n",
       "      <td>4.500000</td>\n",
       "    </tr>\n",
       "    <tr>\n",
       "      <td>8987</td>\n",
       "      <td>4.1</td>\n",
       "      <td>4.070000</td>\n",
       "    </tr>\n",
       "    <tr>\n",
       "      <td>31208</td>\n",
       "      <td>4.6</td>\n",
       "      <td>4.570000</td>\n",
       "    </tr>\n",
       "    <tr>\n",
       "      <td>17792</td>\n",
       "      <td>3.3</td>\n",
       "      <td>3.300000</td>\n",
       "    </tr>\n",
       "    <tr>\n",
       "      <td>24983</td>\n",
       "      <td>4.2</td>\n",
       "      <td>4.270000</td>\n",
       "    </tr>\n",
       "    <tr>\n",
       "      <td>17147</td>\n",
       "      <td>3.8</td>\n",
       "      <td>3.655357</td>\n",
       "    </tr>\n",
       "    <tr>\n",
       "      <td>20274</td>\n",
       "      <td>3.4</td>\n",
       "      <td>3.410000</td>\n",
       "    </tr>\n",
       "    <tr>\n",
       "      <td>11601</td>\n",
       "      <td>3.0</td>\n",
       "      <td>3.000000</td>\n",
       "    </tr>\n",
       "    <tr>\n",
       "      <td>3657</td>\n",
       "      <td>3.3</td>\n",
       "      <td>3.300000</td>\n",
       "    </tr>\n",
       "    <tr>\n",
       "      <td>117</td>\n",
       "      <td>4.3</td>\n",
       "      <td>4.300000</td>\n",
       "    </tr>\n",
       "    <tr>\n",
       "      <td>7788</td>\n",
       "      <td>4.0</td>\n",
       "      <td>4.000000</td>\n",
       "    </tr>\n",
       "    <tr>\n",
       "      <td>31224</td>\n",
       "      <td>4.0</td>\n",
       "      <td>4.000000</td>\n",
       "    </tr>\n",
       "    <tr>\n",
       "      <td>40770</td>\n",
       "      <td>3.0</td>\n",
       "      <td>3.250000</td>\n",
       "    </tr>\n",
       "    <tr>\n",
       "      <td>1812</td>\n",
       "      <td>3.5</td>\n",
       "      <td>3.500000</td>\n",
       "    </tr>\n",
       "    <tr>\n",
       "      <td>36389</td>\n",
       "      <td>3.9</td>\n",
       "      <td>3.900000</td>\n",
       "    </tr>\n",
       "    <tr>\n",
       "      <td>26211</td>\n",
       "      <td>4.2</td>\n",
       "      <td>4.180000</td>\n",
       "    </tr>\n",
       "    <tr>\n",
       "      <td>25516</td>\n",
       "      <td>3.8</td>\n",
       "      <td>3.800000</td>\n",
       "    </tr>\n",
       "  </tbody>\n",
       "</table>\n",
       "</div>"
      ],
      "text/plain": [
       "       actual      pred\n",
       "32557     3.6  3.580000\n",
       "25480     3.8  3.770000\n",
       "5744      4.2  4.190000\n",
       "38358     4.5  4.500000\n",
       "8987      4.1  4.070000\n",
       "31208     4.6  4.570000\n",
       "17792     3.3  3.300000\n",
       "24983     4.2  4.270000\n",
       "17147     3.8  3.655357\n",
       "20274     3.4  3.410000\n",
       "11601     3.0  3.000000\n",
       "3657      3.3  3.300000\n",
       "117       4.3  4.300000\n",
       "7788      4.0  4.000000\n",
       "31224     4.0  4.000000\n",
       "40770     3.0  3.250000\n",
       "1812      3.5  3.500000\n",
       "36389     3.9  3.900000\n",
       "26211     4.2  4.180000\n",
       "25516     3.8  3.800000"
      ]
     },
     "execution_count": 155,
     "metadata": {},
     "output_type": "execute_result"
    }
   ],
   "source": [
    "Randpred = pd.DataFrame({ \"actual\": y_test, \"pred\": y_pred_rfr })\n",
    "Randpred.head(20)"
   ]
  },
  {
   "cell_type": "code",
   "execution_count": 157,
   "metadata": {},
   "outputs": [
    {
     "data": {
      "text/html": [
       "<div>\n",
       "<style scoped>\n",
       "    .dataframe tbody tr th:only-of-type {\n",
       "        vertical-align: middle;\n",
       "    }\n",
       "\n",
       "    .dataframe tbody tr th {\n",
       "        vertical-align: top;\n",
       "    }\n",
       "\n",
       "    .dataframe thead th {\n",
       "        text-align: right;\n",
       "    }\n",
       "</style>\n",
       "<table border=\"1\" class=\"dataframe\">\n",
       "  <thead>\n",
       "    <tr style=\"text-align: right;\">\n",
       "      <th></th>\n",
       "      <th>actual</th>\n",
       "      <th>pred</th>\n",
       "    </tr>\n",
       "  </thead>\n",
       "  <tbody>\n",
       "    <tr>\n",
       "      <td>36124</td>\n",
       "      <td>4.3</td>\n",
       "      <td>4.25</td>\n",
       "    </tr>\n",
       "    <tr>\n",
       "      <td>31818</td>\n",
       "      <td>4.0</td>\n",
       "      <td>3.96</td>\n",
       "    </tr>\n",
       "    <tr>\n",
       "      <td>28734</td>\n",
       "      <td>4.4</td>\n",
       "      <td>4.38</td>\n",
       "    </tr>\n",
       "    <tr>\n",
       "      <td>18284</td>\n",
       "      <td>3.3</td>\n",
       "      <td>3.30</td>\n",
       "    </tr>\n",
       "    <tr>\n",
       "      <td>12070</td>\n",
       "      <td>3.6</td>\n",
       "      <td>3.50</td>\n",
       "    </tr>\n",
       "    <tr>\n",
       "      <td>11983</td>\n",
       "      <td>4.5</td>\n",
       "      <td>4.39</td>\n",
       "    </tr>\n",
       "    <tr>\n",
       "      <td>14458</td>\n",
       "      <td>4.1</td>\n",
       "      <td>4.10</td>\n",
       "    </tr>\n",
       "    <tr>\n",
       "      <td>39438</td>\n",
       "      <td>4.2</td>\n",
       "      <td>4.20</td>\n",
       "    </tr>\n",
       "    <tr>\n",
       "      <td>36298</td>\n",
       "      <td>4.1</td>\n",
       "      <td>4.10</td>\n",
       "    </tr>\n",
       "    <tr>\n",
       "      <td>13079</td>\n",
       "      <td>2.6</td>\n",
       "      <td>2.60</td>\n",
       "    </tr>\n",
       "  </tbody>\n",
       "</table>\n",
       "</div>"
      ],
      "text/plain": [
       "       actual  pred\n",
       "36124     4.3  4.25\n",
       "31818     4.0  3.96\n",
       "28734     4.4  4.38\n",
       "18284     3.3  3.30\n",
       "12070     3.6  3.50\n",
       "11983     4.5  4.39\n",
       "14458     4.1  4.10\n",
       "39438     4.2  4.20\n",
       "36298     4.1  4.10\n",
       "13079     2.6  2.60"
      ]
     },
     "execution_count": 157,
     "metadata": {},
     "output_type": "execute_result"
    }
   ],
   "source": [
    "Randpred.tail(10)"
   ]
  },
  {
   "cell_type": "code",
   "execution_count": null,
   "metadata": {},
   "outputs": [],
   "source": []
  }
 ],
 "metadata": {
  "kernelspec": {
   "display_name": "Python 3",
   "language": "python",
   "name": "python3"
  },
  "language_info": {
   "codemirror_mode": {
    "name": "ipython",
    "version": 3
   },
   "file_extension": ".py",
   "mimetype": "text/x-python",
   "name": "python",
   "nbconvert_exporter": "python",
   "pygments_lexer": "ipython3",
   "version": "3.7.4"
  }
 },
 "nbformat": 4,
 "nbformat_minor": 2
}
